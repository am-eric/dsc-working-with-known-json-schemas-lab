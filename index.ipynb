{
 "cells": [
  {
   "cell_type": "markdown",
   "metadata": {},
   "source": [
    "# Working with Known JSON Schemas - Lab"
   ]
  },
  {
   "cell_type": "markdown",
   "metadata": {},
   "source": [
    "## Introduction\n",
    "In this lab, you'll practice working with JSON files whose schema you know beforehand."
   ]
  },
  {
   "cell_type": "markdown",
   "metadata": {},
   "source": [
    "## Objectives\n",
    "\n",
    "You will be able to:\n",
    "\n",
    "* Use the `json` module to load and parse JSON documents\n",
    "* Extract data using predefined JSON schemas\n",
    "* Convert JSON to a pandas dataframe"
   ]
  },
  {
   "cell_type": "markdown",
   "metadata": {},
   "source": [
    "## Reading a JSON Schema\n",
    "\n",
    "Here's the JSON schema provided for a section of the NY Times API:\n",
    "<img src=\"images/nytimes_movie_schema.png\" width=500>\n",
    "\n",
    "or a fully expanded view:\n",
    "\n",
    "<img src=\"images/nytimes_movie_schema_detailed.png\" width=500>\n",
    "\n",
    "You can more about the documentation [here](https://developer.nytimes.com/docs/movie-reviews-api/1/routes/reviews/%7Btype%7D.json/get).\n",
    "\n"
   ]
  },
  {
   "cell_type": "markdown",
   "metadata": {},
   "source": [
    "## Loading the JSON Data\n",
    "\n",
    "Open the JSON file located at `ny_times_movies.json`, and use the `json` module to load the data into a variable called `data`."
   ]
  },
  {
   "cell_type": "code",
   "execution_count": 1,
   "metadata": {},
   "outputs": [],
   "source": [
    "# Your code here\n",
    "import json\n",
    "\n",
    "with open('ny_times_movies.json', mode='r') as file:\n",
    "    data = json.load(file)"
   ]
  },
  {
   "cell_type": "markdown",
   "metadata": {},
   "source": [
    "Run the code below to investigate its contents:"
   ]
  },
  {
   "cell_type": "code",
   "execution_count": 2,
   "metadata": {},
   "outputs": [
    {
     "name": "stdout",
     "output_type": "stream",
     "text": [
      "`data` has type <class 'dict'>\n",
      "The keys are ['status', 'copyright', 'has_more', 'num_results', 'results']\n"
     ]
    }
   ],
   "source": [
    "# Run this cell without changes\n",
    "print(\"`data` has type\", type(data))\n",
    "print(\"The keys are\", list(data.keys()))"
   ]
  },
  {
   "cell_type": "markdown",
   "metadata": {},
   "source": [
    "## Loading Results\n",
    "\n",
    "Create a variable `results` that contains the value associated with the `'results'` key."
   ]
  },
  {
   "cell_type": "code",
   "execution_count": 5,
   "metadata": {},
   "outputs": [],
   "source": [
    "# Your code here\n",
    "results = data['results']\n"
   ]
  },
  {
   "cell_type": "markdown",
   "metadata": {},
   "source": [
    "Below we display this variable as a table using pandas:"
   ]
  },
  {
   "cell_type": "code",
   "execution_count": 7,
   "metadata": {},
   "outputs": [
    {
     "data": {
      "text/html": [
       "<div>\n",
       "<style scoped>\n",
       "    .dataframe tbody tr th:only-of-type {\n",
       "        vertical-align: middle;\n",
       "    }\n",
       "\n",
       "    .dataframe tbody tr th {\n",
       "        vertical-align: top;\n",
       "    }\n",
       "\n",
       "    .dataframe thead th {\n",
       "        text-align: right;\n",
       "    }\n",
       "</style>\n",
       "<table border=\"1\" class=\"dataframe\">\n",
       "  <thead>\n",
       "    <tr style=\"text-align: right;\">\n",
       "      <th></th>\n",
       "      <th>display_title</th>\n",
       "      <th>mpaa_rating</th>\n",
       "      <th>critics_pick</th>\n",
       "      <th>byline</th>\n",
       "      <th>headline</th>\n",
       "      <th>summary_short</th>\n",
       "      <th>publication_date</th>\n",
       "      <th>opening_date</th>\n",
       "      <th>date_updated</th>\n",
       "      <th>link</th>\n",
       "      <th>multimedia</th>\n",
       "    </tr>\n",
       "  </thead>\n",
       "  <tbody>\n",
       "    <tr>\n",
       "      <th>0</th>\n",
       "      <td>Can You Ever Forgive Me</td>\n",
       "      <td>R</td>\n",
       "      <td>1</td>\n",
       "      <td>A.O. SCOTT</td>\n",
       "      <td>Review: Melissa McCarthy Is Criminally Good in...</td>\n",
       "      <td>Marielle Heller directs a true story of litera...</td>\n",
       "      <td>2018-10-16</td>\n",
       "      <td>2018-10-19</td>\n",
       "      <td>2018-10-17 02:44:23</td>\n",
       "      <td>{'type': 'article', 'url': 'http://www.nytimes...</td>\n",
       "      <td>{'type': 'mediumThreeByTwo210', 'src': 'https:...</td>\n",
       "    </tr>\n",
       "    <tr>\n",
       "      <th>1</th>\n",
       "      <td>Charm City</td>\n",
       "      <td></td>\n",
       "      <td>1</td>\n",
       "      <td>BEN KENIGSBERG</td>\n",
       "      <td>Review: â€˜Charm Cityâ€™ Vividly Captures the ...</td>\n",
       "      <td>Marilyn Nessâ€™s documentary is dedicated to t...</td>\n",
       "      <td>2018-10-16</td>\n",
       "      <td>2018-04-22</td>\n",
       "      <td>2018-10-16 11:04:03</td>\n",
       "      <td>{'type': 'article', 'url': 'http://www.nytimes...</td>\n",
       "      <td>{'type': 'mediumThreeByTwo210', 'src': 'https:...</td>\n",
       "    </tr>\n",
       "    <tr>\n",
       "      <th>2</th>\n",
       "      <td>Horn from the Heart: The Paul Butterfield Story</td>\n",
       "      <td></td>\n",
       "      <td>1</td>\n",
       "      <td>GLENN KENNY</td>\n",
       "      <td>Review: Paul Butterfieldâ€™s Story Is Told in ...</td>\n",
       "      <td>A documentary explores the life of the blues m...</td>\n",
       "      <td>2018-10-16</td>\n",
       "      <td>2018-10-19</td>\n",
       "      <td>2018-10-16 11:04:04</td>\n",
       "      <td>{'type': 'article', 'url': 'http://www.nytimes...</td>\n",
       "      <td>{'type': 'mediumThreeByTwo210', 'src': 'https:...</td>\n",
       "    </tr>\n",
       "    <tr>\n",
       "      <th>3</th>\n",
       "      <td>The Price of Everything</td>\n",
       "      <td></td>\n",
       "      <td>0</td>\n",
       "      <td>A.O. SCOTT</td>\n",
       "      <td>Review: â€˜The Price of Everythingâ€™ Asks $56...</td>\n",
       "      <td>This documentary examines the global art marke...</td>\n",
       "      <td>2018-10-16</td>\n",
       "      <td>2018-10-19</td>\n",
       "      <td>2018-10-16 16:08:03</td>\n",
       "      <td>{'type': 'article', 'url': 'http://www.nytimes...</td>\n",
       "      <td>{'type': 'mediumThreeByTwo210', 'src': 'https:...</td>\n",
       "    </tr>\n",
       "    <tr>\n",
       "      <th>4</th>\n",
       "      <td>Impulso</td>\n",
       "      <td></td>\n",
       "      <td>0</td>\n",
       "      <td>BEN KENIGSBERG</td>\n",
       "      <td>Review: â€˜Impulsoâ€™ Goes Backstage With a Fl...</td>\n",
       "      <td>This documentary follows RocÃ­o Molina, a cutt...</td>\n",
       "      <td>2018-10-16</td>\n",
       "      <td>None</td>\n",
       "      <td>2018-10-16 11:04:03</td>\n",
       "      <td>{'type': 'article', 'url': 'http://www.nytimes...</td>\n",
       "      <td>{'type': 'mediumThreeByTwo210', 'src': 'https:...</td>\n",
       "    </tr>\n",
       "  </tbody>\n",
       "</table>\n",
       "</div>"
      ],
      "text/plain": [
       "                                     display_title mpaa_rating  critics_pick  \\\n",
       "0                          Can You Ever Forgive Me           R             1   \n",
       "1                                       Charm City                         1   \n",
       "2  Horn from the Heart: The Paul Butterfield Story                         1   \n",
       "3                          The Price of Everything                         0   \n",
       "4                                          Impulso                         0   \n",
       "\n",
       "           byline                                           headline  \\\n",
       "0      A.O. SCOTT  Review: Melissa McCarthy Is Criminally Good in...   \n",
       "1  BEN KENIGSBERG  Review: â€˜Charm Cityâ€™ Vividly Captures the ...   \n",
       "2     GLENN KENNY  Review: Paul Butterfieldâ€™s Story Is Told in ...   \n",
       "3      A.O. SCOTT  Review: â€˜The Price of Everythingâ€™ Asks $56...   \n",
       "4  BEN KENIGSBERG  Review: â€˜Impulsoâ€™ Goes Backstage With a Fl...   \n",
       "\n",
       "                                       summary_short publication_date  \\\n",
       "0  Marielle Heller directs a true story of litera...       2018-10-16   \n",
       "1  Marilyn Nessâ€™s documentary is dedicated to t...       2018-10-16   \n",
       "2  A documentary explores the life of the blues m...       2018-10-16   \n",
       "3  This documentary examines the global art marke...       2018-10-16   \n",
       "4  This documentary follows RocÃ­o Molina, a cutt...       2018-10-16   \n",
       "\n",
       "  opening_date         date_updated  \\\n",
       "0   2018-10-19  2018-10-17 02:44:23   \n",
       "1   2018-04-22  2018-10-16 11:04:03   \n",
       "2   2018-10-19  2018-10-16 11:04:04   \n",
       "3   2018-10-19  2018-10-16 16:08:03   \n",
       "4         None  2018-10-16 11:04:03   \n",
       "\n",
       "                                                link  \\\n",
       "0  {'type': 'article', 'url': 'http://www.nytimes...   \n",
       "1  {'type': 'article', 'url': 'http://www.nytimes...   \n",
       "2  {'type': 'article', 'url': 'http://www.nytimes...   \n",
       "3  {'type': 'article', 'url': 'http://www.nytimes...   \n",
       "4  {'type': 'article', 'url': 'http://www.nytimes...   \n",
       "\n",
       "                                          multimedia  \n",
       "0  {'type': 'mediumThreeByTwo210', 'src': 'https:...  \n",
       "1  {'type': 'mediumThreeByTwo210', 'src': 'https:...  \n",
       "2  {'type': 'mediumThreeByTwo210', 'src': 'https:...  \n",
       "3  {'type': 'mediumThreeByTwo210', 'src': 'https:...  \n",
       "4  {'type': 'mediumThreeByTwo210', 'src': 'https:...  "
      ]
     },
     "execution_count": 7,
     "metadata": {},
     "output_type": "execute_result"
    }
   ],
   "source": [
    "# Run this cell without changes\n",
    "import pandas as pd\n",
    "df = pd.DataFrame.from_dict(data = results, orient='columns')\n",
    "df.head()"
   ]
  },
  {
   "cell_type": "markdown",
   "metadata": {},
   "source": [
    "## Data Analysis\n",
    "\n",
    "Now that you have a general sense of the data, answer some questions about it.\n",
    "\n",
    "### How many results are in the file?\n",
    "\n",
    "The metadata says this:"
   ]
  },
  {
   "cell_type": "code",
   "execution_count": 8,
   "metadata": {},
   "outputs": [
    {
     "data": {
      "text/plain": [
       "20"
      ]
     },
     "execution_count": 8,
     "metadata": {},
     "output_type": "execute_result"
    }
   ],
   "source": [
    "# Run this cell without changes\n",
    "data['num_results']"
   ]
  },
  {
   "cell_type": "markdown",
   "metadata": {},
   "source": [
    "Double-check that by looking at `results`. Does it line up?"
   ]
  },
  {
   "cell_type": "code",
   "execution_count": 10,
   "metadata": {},
   "outputs": [
    {
     "data": {
      "text/plain": [
       "20"
      ]
     },
     "execution_count": 10,
     "metadata": {},
     "output_type": "execute_result"
    }
   ],
   "source": [
    "# Your code here\n",
    "df.shape[0]"
   ]
  },
  {
   "cell_type": "code",
   "execution_count": null,
   "metadata": {},
   "outputs": [],
   "source": [
    "\"\"\"\n",
    "Your written answer here\n",
    "\"\"\""
   ]
  },
  {
   "cell_type": "markdown",
   "metadata": {},
   "source": [
    "### How many unique critics are there?\n",
    "\n",
    "A critic's name can be identified using the `'byline'` key. Assign your answer to the variable `unique_critics`."
   ]
  },
  {
   "cell_type": "code",
   "execution_count": 12,
   "metadata": {},
   "outputs": [],
   "source": [
    "# Your code here\n",
    "unique_critics = len(df['byline'].unique())"
   ]
  },
  {
   "cell_type": "markdown",
   "metadata": {},
   "source": [
    "This code checks your answer."
   ]
  },
  {
   "cell_type": "code",
   "execution_count": 13,
   "metadata": {},
   "outputs": [],
   "source": [
    "# Run this cell without changes\n",
    "assert unique_critics == 7"
   ]
  },
  {
   "cell_type": "markdown",
   "metadata": {},
   "source": [
    "## Flattening Data\n",
    "\n",
    "Create a list `review_urls` that contains the URL for each review. This can be found using the `'url'` key nested under `'link'`."
   ]
  },
  {
   "cell_type": "code",
   "execution_count": 17,
   "metadata": {},
   "outputs": [],
   "source": [
    "# Your code here (create more cells as needed)\n",
    "\n",
    "review_urls = [(entry['url']) for entry in df['link']]"
   ]
  },
  {
   "cell_type": "markdown",
   "metadata": {},
   "source": [
    "The following code will check your answer:"
   ]
  },
  {
   "cell_type": "code",
   "execution_count": 18,
   "metadata": {},
   "outputs": [],
   "source": [
    "# Run this cell without changes\n",
    "\n",
    "# review_urls should be a list\n",
    "assert type(review_urls) == list\n",
    "\n",
    "# The length should be 20, same as the length of reviews\n",
    "assert len(review_urls) == 20\n",
    "\n",
    "# The data type contained should be string\n",
    "assert type(review_urls[0]) == str and type(review_urls[-1]) == str\n",
    "\n",
    "# Spot checking a specific value\n",
    "assert review_urls[6] == 'http://www.nytimes.com/2018/10/11/movies/barbara-review.html'"
   ]
  },
  {
   "cell_type": "markdown",
   "metadata": {},
   "source": [
    "## Summary\n",
    "In this lab you practiced extracting and transforming data from JSON files with known schemas."
   ]
  }
 ],
 "metadata": {
  "kernelspec": {
   "display_name": "Python (learn-env)",
   "language": "python",
   "name": "learn-env"
  },
  "language_info": {
   "codemirror_mode": {
    "name": "ipython",
    "version": 3
   },
   "file_extension": ".py",
   "mimetype": "text/x-python",
   "name": "python",
   "nbconvert_exporter": "python",
   "pygments_lexer": "ipython3",
   "version": "3.12.3"
  },
  "toc": {
   "base_numbering": 1,
   "nav_menu": {},
   "number_sections": true,
   "sideBar": true,
   "skip_h1_title": false,
   "title_cell": "Table of Contents",
   "title_sidebar": "Contents",
   "toc_cell": false,
   "toc_position": {},
   "toc_section_display": true,
   "toc_window_display": false
  }
 },
 "nbformat": 4,
 "nbformat_minor": 4
}
